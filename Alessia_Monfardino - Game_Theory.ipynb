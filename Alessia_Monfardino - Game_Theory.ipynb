{
 "cells": [
  {
   "cell_type": "code",
   "execution_count": null,
   "id": "4de66c4e",
   "metadata": {
    "scrolled": false
   },
   "outputs": [
    {
     "name": "stdout",
     "output_type": "stream",
     "text": [
      "+-------------+-------------+-------------+\n",
      "|  Company 1  |  Company 2  |   Outcome   |\n",
      "+-------------+-------------+-------------+\n",
      "| i           | i           |(-1, -1)     |\n",
      "| s           | i           |(-2, 2)      |\n",
      "| i           | s           |(2, -2)      |\n",
      "| s           | s           |(0, 0)       |\n",
      "+-------------+-------------+-------------+\n"
     ]
    }
   ],
   "source": [
    "# Welcome to my game! The user acts like the CEO of company 1 and must decide whether to invest the year's budget of $1 million on a marketing campaign. \n",
    "# The CEO might decide not to invest and save the money for other expenditures, but he does not know the company's 2 strategy. \n",
    "# If company 1 decides to invest and company 2 to save, the former increases profits by 2M and the latter decreases them by the same amount, and vice versa.\n",
    "# If neither decides to invest, profits remain the same. On the other hand, if both invest, the effects will cancel out and both will lose the million invested. \n",
    "# The user is therefore asked if they want to invest or save the money, without knowing the choice of company 2, represented by Python.\n",
    "\n",
    "import random\n",
    "import time\n",
    "\n",
    "# Create a dictionary with all the possible outcomes and the corresponding points\n",
    "outcomes = {\"i,i\": (-1,-1), \"s,i\": (-2,+2), \"i,s\": (+2,-2), \"s,s\": (0,0)}\n",
    "\n",
    "print(\"+-------------+-------------+-------------+\")\n",
    "print(\"|  Company 1  |  Company 2  |   Outcome   |\")\n",
    "print(\"+-------------+-------------+-------------+\")\n",
    "for outcome in outcomes:\n",
    "    print(\"| {:<11} | {:<11} |{:<13}|\".format(outcome[:1], outcome[-1], str(outcomes[outcome])))\n",
    "print(\"+-------------+-------------+-------------+\")\n",
    "\n",
    "# Ask the user if they want to play the game\n",
    "\n",
    "user_choice = input(\"Do you want to play a game? Please answer with y/n \")\n",
    "while user_choice.lower() not in [\"y\", \"n\"]:\n",
    "        user_choice = input(\"Your input is not valid. Enter 'y' if you accept to play, or 'n' if you prefer not to play:\")\n",
    "        \n",
    "# If user accepts to play the game\n",
    "\n",
    "if user_choice.lower() == \"y\":\n",
    "    user_choice = input(\"\"\"\n",
    "Wonderful! You represent the CEO of company 1 and you have to decide if you want to invest 1 million dollars on a \n",
    "marketing campaign. The campaign might be profitable and make you gain an extra million, but you could also lose \n",
    "your investment if your competitor decides to follow the same strategy!\n",
    "What's your choice? Enter 'i' for invest, or 's' for save. What do you choose? (i,s)\\n\n",
    "\"\"\")\n",
    "    while user_choice.lower() not in [\"i\", \"s\"]:\n",
    "        user_choice = input(\"Your input is not valid. Enter 'i' if you want to invest, or 's' if you want to save:\")\n",
    "    if user_choice.lower() == \"i\":\n",
    "        user_choice = \"invest\"\n",
    "    else:\n",
    "        user_choice = \"save\"\n",
    "    python_choice = random.choice([\"invest\", \"save\"])\n",
    "    outcome = f\"{user_choice[0]},{python_choice[0]}\"\n",
    "    print(outcome)\n",
    "    print(\"Your choice was to \" + user_choice + \" and company's 2 choice was to \" + python_choice + \".\")\n",
    "    print(\"Outcome: \" + str(outcomes[outcome][0]) + \" millions change in profits for you and \" + str(outcomes[outcome][1]) + \" millions change in profits for company 2\"+ \".\")\n",
    "\n",
    "    \n",
    "# If user does not accept to play the game\n",
    "\n",
    "if user_choice.lower() == \"n\":\n",
    "    time.sleep(1)\n",
    "    print(\"\\nCompany 1 vs Company 2\\n\")\n",
    "\n",
    "# Keep track of points\n",
    "\n",
    "    Company1_points = 0\n",
    "    Company2_points = 0\n",
    "\n",
    "# Play 5 times a game between two python players\n",
    "\n",
    "    for i in range(5):\n",
    "        time.sleep(1)\n",
    "        Company1_choice = random.choice([\"invest\", \"save\"])\n",
    "        Company2_choice = random.choice([\"invest\", \"save\"])\n",
    "\n",
    "        if Company1_choice == \"invest\":\n",
    "            Company2_choice = random.choice([\"invest\", \"save\"])\n",
    "        else:\n",
    "            Company2_choice = \"save\"\n",
    "        outcome = f\"{Company1_choice[0]},{Company2_choice[0]}\"\n",
    "        Company1_points += outcomes[outcome][0]\n",
    "        Company2_points += outcomes[outcome][1]\n",
    "        print(f\"\\nCompany 1 chose to {Company1_choice}, while company 2 chose to {Company2_choice}\\n\")\n",
    "        print(\"The change in profits of company 1 are: \" + str(Company1_points) + \" millions\")\n",
    "        print(\"The change in profits of company 2 are: \" + str(Company2_points) + \" millions\")\n",
    "        print(\"-----------------------------------------------------------------------------\")\n",
    "    \n",
    "    if Company1_points > Company2_points:\n",
    "        print(\"Company 1 increased its profits!\")\n",
    "    elif Company1_points < Company2_points:\n",
    "        print(\"Company 2 increased its profits!\")\n",
    "    else:\n",
    "        print(\"It's a tie!\")"
   ]
  },
  {
   "cell_type": "code",
   "execution_count": null,
   "id": "8e49d3a8",
   "metadata": {},
   "outputs": [],
   "source": []
  },
  {
   "cell_type": "code",
   "execution_count": null,
   "id": "9106cd5e",
   "metadata": {},
   "outputs": [],
   "source": []
  }
 ],
 "metadata": {
  "kernelspec": {
   "display_name": "Python 3 (ipykernel)",
   "language": "python",
   "name": "python3"
  },
  "language_info": {
   "codemirror_mode": {
    "name": "ipython",
    "version": 3
   },
   "file_extension": ".py",
   "mimetype": "text/x-python",
   "name": "python",
   "nbconvert_exporter": "python",
   "pygments_lexer": "ipython3",
   "version": "3.9.13"
  },
  "toc": {
   "base_numbering": 1,
   "nav_menu": {},
   "number_sections": true,
   "sideBar": true,
   "skip_h1_title": false,
   "title_cell": "Table of Contents",
   "title_sidebar": "Contents",
   "toc_cell": false,
   "toc_position": {},
   "toc_section_display": true,
   "toc_window_display": false
  },
  "varInspector": {
   "cols": {
    "lenName": 16,
    "lenType": 16,
    "lenVar": 40
   },
   "kernels_config": {
    "python": {
     "delete_cmd_postfix": "",
     "delete_cmd_prefix": "del ",
     "library": "var_list.py",
     "varRefreshCmd": "print(var_dic_list())"
    },
    "r": {
     "delete_cmd_postfix": ") ",
     "delete_cmd_prefix": "rm(",
     "library": "var_list.r",
     "varRefreshCmd": "cat(var_dic_list()) "
    }
   },
   "types_to_exclude": [
    "module",
    "function",
    "builtin_function_or_method",
    "instance",
    "_Feature"
   ],
   "window_display": false
  }
 },
 "nbformat": 4,
 "nbformat_minor": 5
}
